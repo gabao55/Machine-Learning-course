{
 "cells": [
  {
   "cell_type": "markdown",
   "id": "developing-edward",
   "metadata": {},
   "source": [
    "# Generating random numbers"
   ]
  },
  {
   "cell_type": "code",
   "execution_count": 1,
   "id": "hybrid-metallic",
   "metadata": {},
   "outputs": [],
   "source": [
    "import numpy as np "
   ]
  },
  {
   "cell_type": "code",
   "execution_count": 2,
   "id": "progressive-negotiation",
   "metadata": {},
   "outputs": [
    {
     "data": {
      "text/plain": [
       "65"
      ]
     },
     "execution_count": 2,
     "metadata": {},
     "output_type": "execute_result"
    }
   ],
   "source": [
    "# randint(range beginning, range end)\n",
    "np.random.randint(1, 100)"
   ]
  },
  {
   "cell_type": "code",
   "execution_count": 3,
   "id": "pleasant-percentage",
   "metadata": {},
   "outputs": [
    {
     "data": {
      "text/plain": [
       "0.14722557514681145"
      ]
     },
     "execution_count": 3,
     "metadata": {},
     "output_type": "execute_result"
    }
   ],
   "source": [
    "# The most classic way (values between 0 and 1):\n",
    "np.random.random()"
   ]
  },
  {
   "cell_type": "code",
   "execution_count": 4,
   "id": "automated-heater",
   "metadata": {},
   "outputs": [],
   "source": [
    "# This function generates a list of n random numbers in between a range (a, b):\n",
    "def randint_list(n, a, b):\n",
    "    x = [np.random.randint(a, b) for i in range (n)]\n",
    "    \n",
    "    return x"
   ]
  },
  {
   "cell_type": "code",
   "execution_count": 5,
   "id": "graphic-cursor",
   "metadata": {},
   "outputs": [
    {
     "data": {
      "text/plain": [
       "[47, 21, 39, 10, 18, 11, 21, 32, 18, 21]"
      ]
     },
     "execution_count": 5,
     "metadata": {},
     "output_type": "execute_result"
    }
   ],
   "source": [
    "random_numbers = randint_list(10, 0, 50)\n",
    "random_numbers"
   ]
  },
  {
   "cell_type": "code",
   "execution_count": 6,
   "id": "checked-metallic",
   "metadata": {},
   "outputs": [
    {
     "name": "stdout",
     "output_type": "stream",
     "text": [
      "14\n",
      "84\n",
      "63\n",
      "84\n",
      "63\n",
      "0\n",
      "77\n",
      "7\n",
      "28\n",
      "35\n"
     ]
    }
   ],
   "source": [
    "# Getting random numbers that are a multiple of a number n:\n",
    "import random\n",
    "for i in range(10):\n",
    "    # random.randrange(range beginning, range end, n)\n",
    "    print(random.randrange(0, 100, 7))"
   ]
  },
  {
   "cell_type": "markdown",
   "id": "seasonal-offset",
   "metadata": {},
   "source": [
    "### Using random numbers with the data set"
   ]
  },
  {
   "cell_type": "code",
   "execution_count": 7,
   "id": "civic-gauge",
   "metadata": {},
   "outputs": [],
   "source": [
    "import pandas as pd\n",
    "data = pd.read_csv(r'../datasets/customer-churn-model/Customer Churn Model.txt')"
   ]
  },
  {
   "cell_type": "code",
   "execution_count": 10,
   "id": "supreme-concentration",
   "metadata": {},
   "outputs": [
    {
     "data": {
      "text/plain": [
       "['State',\n",
       " 'Account Length',\n",
       " 'Area Code',\n",
       " 'Phone',\n",
       " \"Int'l Plan\",\n",
       " 'VMail Plan',\n",
       " 'VMail Message',\n",
       " 'Day Mins',\n",
       " 'Day Calls',\n",
       " 'Day Charge',\n",
       " 'Eve Mins',\n",
       " 'Eve Calls',\n",
       " 'Eve Charge',\n",
       " 'Night Mins',\n",
       " 'Night Calls',\n",
       " 'Night Charge',\n",
       " 'Intl Mins',\n",
       " 'Intl Calls',\n",
       " 'Intl Charge',\n",
       " 'CustServ Calls',\n",
       " 'Churn?']"
      ]
     },
     "execution_count": 10,
     "metadata": {},
     "output_type": "execute_result"
    }
   ],
   "source": [
    "all_columns_list = data.columns.values.tolist()\n",
    "all_columns_list"
   ]
  },
  {
   "cell_type": "code",
   "execution_count": 11,
   "id": "fancy-retail",
   "metadata": {},
   "outputs": [
    {
     "data": {
      "text/plain": [
       "'Intl Charge'"
      ]
     },
     "execution_count": 11,
     "metadata": {},
     "output_type": "execute_result"
    }
   ],
   "source": [
    "np.random.choice(all_columns_list)"
   ]
  },
  {
   "cell_type": "markdown",
   "id": "considerable-laundry",
   "metadata": {},
   "source": [
    "### Random number seeds"
   ]
  },
  {
   "cell_type": "markdown",
   "id": "italic-audio",
   "metadata": {},
   "source": [
    "It's an way to replay an random numbers sample (it's a good advice to choose a seed for the random numbers every time you're generating them, so you can replay results)"
   ]
  },
  {
   "cell_type": "code",
   "execution_count": 22,
   "id": "anonymous-nightmare",
   "metadata": {},
   "outputs": [
    {
     "name": "stdout",
     "output_type": "stream",
     "text": [
      "0.8823493117539459\n",
      "0.10432773786047767\n",
      "0.9070093335163405\n",
      "0.3063988986063515\n",
      "0.446408872427422\n",
      "0.5899853915235483\n",
      "0.837111099476273\n",
      "0.6978006071533107\n",
      "0.8028028375301015\n",
      "0.10721507886022819\n"
     ]
    }
   ],
   "source": [
    "np.random.seed(2018)\n",
    "for i in range(10):\n",
    "    print(np.random.random())"
   ]
  },
  {
   "cell_type": "code",
   "execution_count": 24,
   "id": "anonymous-distinction",
   "metadata": {},
   "outputs": [
    {
     "name": "stdout",
     "output_type": "stream",
     "text": [
      "0.8823493117539459\n",
      "0.10432773786047767\n",
      "0.9070093335163405\n",
      "0.3063988986063515\n",
      "0.446408872427422\n",
      "0.5899853915235483\n",
      "0.837111099476273\n",
      "0.6978006071533107\n",
      "0.8028028375301015\n",
      "0.10721507886022819\n"
     ]
    }
   ],
   "source": [
    "np.random.seed(2018)\n",
    "for i in range(10):\n",
    "    print(np.random.random())"
   ]
  },
  {
   "cell_type": "code",
   "execution_count": 25,
   "id": "hawaiian-asthma",
   "metadata": {},
   "outputs": [
    {
     "name": "stdout",
     "output_type": "stream",
     "text": [
      "0.7570925261272642\n",
      "0.9996710127833262\n",
      "0.7259309975833282\n",
      "0.1414482395290898\n",
      "0.3567205964881045\n",
      "0.9427041101556148\n",
      "0.6101618868374089\n",
      "0.22757747291416208\n",
      "0.6687323711512158\n",
      "0.6929045548153844\n"
     ]
    }
   ],
   "source": [
    "for i in range(10):\n",
    "    print(np.random.random())"
   ]
  }
 ],
 "metadata": {
  "kernelspec": {
   "display_name": "Python 3",
   "language": "python",
   "name": "python3"
  },
  "language_info": {
   "codemirror_mode": {
    "name": "ipython",
    "version": 3
   },
   "file_extension": ".py",
   "mimetype": "text/x-python",
   "name": "python",
   "nbconvert_exporter": "python",
   "pygments_lexer": "ipython3",
   "version": "3.8.8"
  }
 },
 "nbformat": 4,
 "nbformat_minor": 5
}
