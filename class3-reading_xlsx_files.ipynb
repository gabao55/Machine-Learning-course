{
 "cells": [
  {
   "cell_type": "markdown",
   "id": "departmental-particular",
   "metadata": {},
   "source": [
    "## Reading XLS and XLSX files"
   ]
  },
  {
   "cell_type": "markdown",
   "id": "entertaining-possibility",
   "metadata": {},
   "source": [
    "Libraries used to read the file:"
   ]
  },
  {
   "cell_type": "code",
   "execution_count": 4,
   "id": "capable-namibia",
   "metadata": {},
   "outputs": [],
   "source": [
    "import pandas as pd\n",
    "import openpyxl\n",
    "import os"
   ]
  },
  {
   "cell_type": "markdown",
   "id": "incorporated-documentation",
   "metadata": {},
   "source": [
    "File path and reading the data for xlsx files with openpyxl package:"
   ]
  },
  {
   "cell_type": "code",
   "execution_count": 6,
   "id": "another-method",
   "metadata": {},
   "outputs": [],
   "source": [
    "mainpath = r'..\\datasets'\n",
    "filename = r'titanic\\titanic3.xlsx'"
   ]
  },
  {
   "cell_type": "code",
   "execution_count": 8,
   "id": "selective-expansion",
   "metadata": {},
   "outputs": [],
   "source": [
    "wb = openpyxl.load_workbook(os.path.join(mainpath, filename))"
   ]
  },
  {
   "cell_type": "code",
   "execution_count": 9,
   "id": "dutch-feature",
   "metadata": {},
   "outputs": [],
   "source": [
    "titanic = wb.active"
   ]
  },
  {
   "cell_type": "markdown",
   "id": "tender-links",
   "metadata": {},
   "source": [
    "File path and reading the data for xls files with pandas package:"
   ]
  },
  {
   "cell_type": "code",
   "execution_count": 11,
   "id": "turkish-friend",
   "metadata": {},
   "outputs": [],
   "source": [
    "filename = r'titanic\\titanic3.xls'"
   ]
  },
  {
   "cell_type": "code",
   "execution_count": 13,
   "id": "great-canvas",
   "metadata": {},
   "outputs": [],
   "source": [
    "titanic = pd.read_excel(os.path.join(mainpath, filename), 'titanic3')"
   ]
  },
  {
   "cell_type": "markdown",
   "id": "printable-french",
   "metadata": {},
   "source": [
    "Converting xls files to CSV files:"
   ]
  },
  {
   "cell_type": "code",
   "execution_count": 14,
   "id": "federal-stadium",
   "metadata": {},
   "outputs": [],
   "source": [
    "titanic.to_csv(os.path.join(mainpath, r'titanic\\titanic_custom.csv'))"
   ]
  },
  {
   "cell_type": "markdown",
   "id": "surface-encounter",
   "metadata": {},
   "source": [
    "Converting xls files to json files:"
   ]
  },
  {
   "cell_type": "code",
   "execution_count": 15,
   "id": "medieval-beast",
   "metadata": {},
   "outputs": [],
   "source": [
    "titanic.to_json(os.path.join(mainpath, r'titanic\\titanic_custom.json'))"
   ]
  },
  {
   "cell_type": "code",
   "execution_count": null,
   "id": "later-lighting",
   "metadata": {},
   "outputs": [],
   "source": []
  }
 ],
 "metadata": {
  "kernelspec": {
   "display_name": "Python 3",
   "language": "python",
   "name": "python3"
  },
  "language_info": {
   "codemirror_mode": {
    "name": "ipython",
    "version": 3
   },
   "file_extension": ".py",
   "mimetype": "text/x-python",
   "name": "python",
   "nbconvert_exporter": "python",
   "pygments_lexer": "ipython3",
   "version": "3.8.8"
  }
 },
 "nbformat": 4,
 "nbformat_minor": 5
}
